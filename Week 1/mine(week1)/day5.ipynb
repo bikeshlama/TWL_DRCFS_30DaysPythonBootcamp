{
 "cells": [
  {
   "cell_type": "code",
   "execution_count": null,
   "metadata": {},
   "outputs": [],
   "source": [
    "import random\n",
    "\n",
    "player_choice = input(\"Choose your answer (Rock, Paper, Scissors) :\")\n",
    "\n",
    "available_choice = [\"Rock\", \"Paper\", \"Scissors\"]\n",
    "\n",
    "computer_chocie = random.choice(available_choice)\n",
    "\n",
    "print (f\"\\nYou Chose {player_choice} and Computer Chose {computer_chocie}.\\n\")\n",
    "\n",
    "if player_choice == computer_chocie:\n",
    "  print(f\"You Both chose {player_choice}, It's a tie!\")\n",
    "\n",
    "elif player_choice == \"Rock\":\n",
    "  if computer_chocie == \"Scissors\":\n",
    "    print(f\"You Chose {player_choice}, You Won!\")\n",
    "  else:\n",
    "    print(f\"You Chose {player_choice}, Computer Won!\")\n",
    "\n",
    "elif player_choice == \"Paper\":\n",
    "  if computer_chocie == \"Rock\":\n",
    "    print(f\"You Chose {player_choice}, You Won!\")\n",
    "  else:\n",
    "    print(f\"You Chose {player_choice}, You Lose\")\n",
    "    \n",
    "elif player_choice == \"Scissors\":\n",
    "  if computer_chocie == \"Paper\":\n",
    "    print(f\"You Chose {player_choice}, You Won!\")\n",
    "  else:\n",
    "    print(f\"You Chose {player_choice}, You Lose!\")\n",
    "  "
   ]
  }
 ],
 "metadata": {
  "kernelspec": {
   "display_name": "Python 3.11.0 64-bit",
   "language": "python",
   "name": "python3"
  },
  "language_info": {
   "name": "python",
   "version": "3.11.0"
  },
  "orig_nbformat": 4,
  "vscode": {
   "interpreter": {
    "hash": "881144f9c60a7826206f6ab0cca03fc367fec595294dc9aad3255156e7f5ec17"
   }
  }
 },
 "nbformat": 4,
 "nbformat_minor": 2
}
